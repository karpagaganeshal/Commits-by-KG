{
 "cells": [
  {
   "cell_type": "markdown",
   "id": "9be32d5a-981a-4280-8d6c-368cccb05830",
   "metadata": {},
   "source": [
    "#Markdown as it is just an information\n",
    "age<18-->children\n",
    "age<18-->Adult\n",
    "age<18-->citizen\n",
    "age>59-->senior citizen\n"
   ]
  },
  {
   "cell_type": "code",
   "execution_count": 16,
   "id": "e9b62be7-6911-43b1-88a7-b13cc2624e52",
   "metadata": {},
   "outputs": [
    {
     "name": "stdin",
     "output_type": "stream",
     "text": [
      "Enter the age of the person: 59\n"
     ]
    },
    {
     "name": "stdout",
     "output_type": "stream",
     "text": [
      "Citizen\n"
     ]
    }
   ],
   "source": [
    "age =int(input(\"Enter the age of the person:\"))\n",
    "#if\n",
    "if(age < 18):\n",
    "    print(\"Children\")\n",
    "elif(age < 35):\n",
    "    print (\"Adult\")\n",
    "elif(age <= 59):\n",
    "    print (\"Citizen\")\n",
    "else:\n",
    "    print (\"Senior Citizen\")"
   ]
  },
  {
   "cell_type": "code",
   "execution_count": null,
   "id": "410a0458-94bc-4702-89ad-65f63b421aa0",
   "metadata": {},
   "outputs": [],
   "source": []
  }
 ],
 "metadata": {
  "kernelspec": {
   "display_name": "Python [conda env:base] *",
   "language": "python",
   "name": "conda-base-py"
  },
  "language_info": {
   "codemirror_mode": {
    "name": "ipython",
    "version": 3
   },
   "file_extension": ".py",
   "mimetype": "text/x-python",
   "name": "python",
   "nbconvert_exporter": "python",
   "pygments_lexer": "ipython3",
   "version": "3.12.7"
  }
 },
 "nbformat": 4,
 "nbformat_minor": 5
}
