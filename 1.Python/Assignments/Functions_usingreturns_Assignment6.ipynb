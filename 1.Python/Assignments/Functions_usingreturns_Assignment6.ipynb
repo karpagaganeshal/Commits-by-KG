{
 "cells": [
  {
   "cell_type": "code",
   "execution_count": 18,
   "id": "53d4ed6c-e788-419f-9b3f-967b824156dc",
   "metadata": {},
   "outputs": [],
   "source": [
    "def Subfields1():\n",
    "    List = [\"Machine Learning\", \"Neural Networks\", \"Vision\", \"Robotics\", \"Speech Processing\", \"Natural Language Processing\"]\n",
    "    return List\n"
   ]
  },
  {
   "cell_type": "code",
   "execution_count": 20,
   "id": "6db211e6-93ab-4d71-9795-ced54c3c5428",
   "metadata": {},
   "outputs": [
    {
     "name": "stdout",
     "output_type": "stream",
     "text": [
      "Sub-fields in AI are:\n",
      "Machine Learning\n",
      "Neural Networks\n",
      "Vision\n",
      "Robotics\n",
      "Speech Processing\n",
      "Natural Language Processing\n"
     ]
    }
   ],
   "source": [
    "ai_subfields=Subfields1()\n",
    "print(\"Sub-fields in AI are:\")\n",
    "for subfields in ai_subfields:\n",
    "    print(subfields)"
   ]
  },
  {
   "cell_type": "code",
   "execution_count": 22,
   "id": "26954e65-63bc-4e64-aae3-761a23554843",
   "metadata": {},
   "outputs": [],
   "source": [
    "def OddEven():\n",
    "    Num=int(input(\"Enter a Number :\"))\n",
    "    if(Num%2==0):\n",
    "        result = f\"{Num} is an Even Number\"        \n",
    "    else:\n",
    "        result = f\"{Num} is an odd Number\"        \n",
    "    return result"
   ]
  },
  {
   "cell_type": "code",
   "execution_count": 24,
   "id": "862d4666-d469-4b7b-8402-e38797870227",
   "metadata": {},
   "outputs": [
    {
     "name": "stdin",
     "output_type": "stream",
     "text": [
      "Enter a Number : 78\n"
     ]
    },
    {
     "name": "stdout",
     "output_type": "stream",
     "text": [
      "78 is an Even Number\n"
     ]
    }
   ],
   "source": [
    "result=OddEven()\n",
    "print(result)"
   ]
  },
  {
   "cell_type": "code",
   "execution_count": 26,
   "id": "0dc23027-6aee-4dae-9cac-14b6c3b21eda",
   "metadata": {},
   "outputs": [],
   "source": [
    "def EFM():\n",
    "    gender=input(\"Your Gender :\")\n",
    "    age=int(input(\"Your Age :\"))\n",
    "    if((gender==\"Male\" or gender==\"MALE\") and age>=21) or ((gender==\"Female\" or gender==\"FEMALE\") and age>=18):\n",
    "            eligibility=\"Eligible\"\n",
    "    else:\n",
    "            eligibility= \"Not Eligible\"\n",
    "    return eligibility"
   ]
  },
  {
   "cell_type": "code",
   "execution_count": 28,
   "id": "f33735bd-a5b2-4651-89d6-c61cb57d2d3f",
   "metadata": {},
   "outputs": [
    {
     "name": "stdin",
     "output_type": "stream",
     "text": [
      "Your Gender : Male\n",
      "Your Age : 21\n"
     ]
    },
    {
     "name": "stdout",
     "output_type": "stream",
     "text": [
      "Eligible\n"
     ]
    }
   ],
   "source": [
    "eligibility=EFM()\n",
    "print(eligibility)"
   ]
  },
  {
   "cell_type": "code",
   "execution_count": 5,
   "id": "eba6297a-1991-410a-b853-1963c86ea379",
   "metadata": {},
   "outputs": [],
   "source": [
    "def percentage():\n",
    "    subject1=int(input(\" Subject1 =\"))\n",
    "    subject2=int(input(\" Subject2 =\"))\n",
    "    subject3=int(input(\" Subject3 =\"))\n",
    "    subject4=int(input(\" Subject4 =\"))\n",
    "    subject5=int(input(\" Subject5 =\"))\n",
    "    allsubs =(subject1,subject2,subject3,subject4,subject5)\n",
    "    total=0\n",
    "    for i in allsubs:\n",
    "        total=total+i\n",
    "    precentage=total/len(allsubs)\n",
    "    return total,precentage\n"
   ]
  },
  {
   "cell_type": "code",
   "execution_count": 16,
   "id": "0a508c07-816c-466f-8ce1-fa4612ff974d",
   "metadata": {},
   "outputs": [
    {
     "name": "stdin",
     "output_type": "stream",
     "text": [
      " Subject1 = 71\n",
      " Subject2 = 72\n",
      " Subject3 = 73\n",
      " Subject4 = 74\n",
      " Subject5 = 75\n"
     ]
    },
    {
     "name": "stdout",
     "output_type": "stream",
     "text": [
      "  Total :    365\n",
      "Precentage :73.000000000000\n"
     ]
    }
   ],
   "source": [
    "total,precent=percentage()\n",
    "print(\"  Total :   \",total)\n",
    "print(f\"Precentage :{precent:.12f}\")"
   ]
  },
  {
   "cell_type": "code",
   "execution_count": null,
   "id": "af33fd17-6ad5-46db-84f8-d303c52b2360",
   "metadata": {},
   "outputs": [],
   "source": []
  }
 ],
 "metadata": {
  "kernelspec": {
   "display_name": "Python [conda env:base] *",
   "language": "python",
   "name": "conda-base-py"
  },
  "language_info": {
   "codemirror_mode": {
    "name": "ipython",
    "version": 3
   },
   "file_extension": ".py",
   "mimetype": "text/x-python",
   "name": "python",
   "nbconvert_exporter": "python",
   "pygments_lexer": "ipython3",
   "version": "3.12.7"
  }
 },
 "nbformat": 4,
 "nbformat_minor": 5
}
