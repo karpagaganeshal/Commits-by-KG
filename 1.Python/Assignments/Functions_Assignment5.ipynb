{
 "cells": [
  {
   "cell_type": "code",
   "execution_count": 40,
   "id": "594348c9-c887-4dd5-89a4-3e2d2d974826",
   "metadata": {},
   "outputs": [],
   "source": [
    "def Subfields():\n",
    "    print(\"Sub-fields in AI are:\")\n",
    "    List = (\"Machine Learning\",\"Neural Networks\",\"Vision\",\"Robotics\",\"Speech Processing\",\"Natural Language Processing\")\n",
    "    for subfields in List:\n",
    "        print(subfields)\n"
   ]
  },
  {
   "cell_type": "code",
   "execution_count": 42,
   "id": "522d9183-ac2b-4d6c-9b11-7ff4951eaeb8",
   "metadata": {},
   "outputs": [
    {
     "name": "stdout",
     "output_type": "stream",
     "text": [
      "Sub-fields in AI are:\n",
      "Machine Learning\n",
      "Neural Networks\n",
      "Vision\n",
      "Robotics\n",
      "Speech Processing\n",
      "Natural Language Processing\n"
     ]
    }
   ],
   "source": [
    " Subfields()"
   ]
  },
  {
   "cell_type": "code",
   "execution_count": 54,
   "id": "c2caf5ef-f91b-48e0-b5ba-8a5fadc8e74e",
   "metadata": {},
   "outputs": [],
   "source": [
    "def OddEven():\n",
    "    Num=int(input(\"Enter a Number :\"))\n",
    "    if(Num%2==0):\n",
    "        print(Num,\" is Even Number\")\n",
    "    else:\n",
    "        print(Num,\" is Odd Number\")\n"
   ]
  },
  {
   "cell_type": "code",
   "execution_count": 56,
   "id": "4ecce54c-9ae1-4dea-9e57-49d8df015333",
   "metadata": {},
   "outputs": [
    {
     "name": "stdin",
     "output_type": "stream",
     "text": [
      "Enter a Number : 52452\n"
     ]
    },
    {
     "name": "stdout",
     "output_type": "stream",
     "text": [
      "52452  is Even Number\n"
     ]
    }
   ],
   "source": [
    "OddEven()"
   ]
  },
  {
   "cell_type": "code",
   "execution_count": 114,
   "id": "24359968-f62d-4fb9-8140-7720c20f722e",
   "metadata": {},
   "outputs": [],
   "source": [
    "def EFM():\n",
    "    gender=input(\"Your Gender :\")\n",
    "    age=int(input(\"Your Age :\"))\n",
    "    if((gender==\"Male\" or gender==\"MALE\") and age>=21) or ((gender==\"Female\" or gender==\"FEMALE\") and age>=18):\n",
    "            print(\"Eligible\")\n",
    "    else:\n",
    "            print(\"Not Eligible\")\n",
    "\n"
   ]
  },
  {
   "cell_type": "code",
   "execution_count": 118,
   "id": "95a4e7fd-39b0-4b8f-9efa-7f8a4c20db74",
   "metadata": {},
   "outputs": [
    {
     "name": "stdin",
     "output_type": "stream",
     "text": [
      "Your Gender : MALE\n",
      "Your Age : 20\n"
     ]
    },
    {
     "name": "stdout",
     "output_type": "stream",
     "text": [
      "Not Eligible\n"
     ]
    }
   ],
   "source": [
    "EFM()"
   ]
  },
  {
   "cell_type": "code",
   "execution_count": 156,
   "id": "31022380-3bb4-468e-a226-7ba211daaf17",
   "metadata": {},
   "outputs": [],
   "source": [
    "def percentage():\n",
    "    subject1=int(input(\" Subject1 =\"))\n",
    "    subject2=int(input(\" Subject2 =\"))\n",
    "    subject3=int(input(\" Subject3 =\"))\n",
    "    subject4=int(input(\" Subject4 =\"))\n",
    "    subject5=int(input(\" Subject5 =\"))\n",
    "    total=0\n",
    "    allsubs =(subject1,subject2,subject3,subject4,subject5)\n",
    "    for i in allsubs:\n",
    "        total=total+i\n",
    "    precentage=total/len(allsubs)\n",
    "    print(\"Total :   \",total)\n",
    "    print(f\"Precentage :{precentage:.14f}\")\n",
    "\n",
    "\n",
    "          "
   ]
  },
  {
   "cell_type": "code",
   "execution_count": 160,
   "id": "55e39786-9112-4c4a-ad8c-5409ef67f8bb",
   "metadata": {},
   "outputs": [
    {
     "name": "stdin",
     "output_type": "stream",
     "text": [
      " Subject1 = 98\n",
      " Subject2 = 87\n",
      " Subject3 = 95\n",
      " Subject4 = 95\n",
      " Subject5 = 93\n"
     ]
    },
    {
     "name": "stdout",
     "output_type": "stream",
     "text": [
      "Total :    468\n",
      "Precentage :93.6000000000\n"
     ]
    }
   ],
   "source": [
    "percentage()"
   ]
  },
  {
   "cell_type": "code",
   "execution_count": 5,
   "id": "bc51d576-0b88-4fce-88bd-ea7c201a98fb",
   "metadata": {},
   "outputs": [],
   "source": [
    "def triangle():\n",
    "    Height=int(input(\"Height : \"))\n",
    "    Breadth=int(input(\"Breadth : \"))\n",
    "    Area=(Height*Breadth) / 2\n",
    "    print(\"Area formula : (Height * Breadth) / 2\")\n",
    "    print(\"Area of Traiangle is : \",Area)\n",
    "    \n",
    "    Height1=int(input(\"Height1 : \"))\n",
    "    Height2=int(input(\"Height2 : \"))\n",
    "    Breadth2=int(input(\"Breadth2 : \"))\n",
    "    Perimeter=Height1+Height2+Breadth2\n",
    "    print(\"Perimeter formula : Height1 + Height2 + Breadth2\")\n",
    "    print(\"Perimeter of Traiangle is : \",Perimeter)\n"
   ]
  },
  {
   "cell_type": "code",
   "execution_count": 7,
   "id": "62ee7ce1-322e-426d-8a79-bc07b952bd95",
   "metadata": {},
   "outputs": [
    {
     "name": "stdin",
     "output_type": "stream",
     "text": [
      "Height :  32\n",
      "Breadth :  34\n"
     ]
    },
    {
     "name": "stdout",
     "output_type": "stream",
     "text": [
      "Area formula : (Height * Breadth) / 2\n",
      "Area of Traiangle is :  544.0\n"
     ]
    },
    {
     "name": "stdin",
     "output_type": "stream",
     "text": [
      "Height1 :  2\n",
      "Height2 :  4\n",
      "Breadth2 :  4\n"
     ]
    },
    {
     "name": "stdout",
     "output_type": "stream",
     "text": [
      "Perimeter formula : Height1 + Height2 + Breadth2\n",
      "Perimeter of Traiangle is :  10\n"
     ]
    }
   ],
   "source": [
    "triangle()"
   ]
  },
  {
   "cell_type": "code",
   "execution_count": null,
   "id": "1c5bd6b6-24e9-4c07-9fed-9039ad5216ff",
   "metadata": {},
   "outputs": [],
   "source": []
  }
 ],
 "metadata": {
  "kernelspec": {
   "display_name": "Python [conda env:base] *",
   "language": "python",
   "name": "conda-base-py"
  },
  "language_info": {
   "codemirror_mode": {
    "name": "ipython",
    "version": 3
   },
   "file_extension": ".py",
   "mimetype": "text/x-python",
   "name": "python",
   "nbconvert_exporter": "python",
   "pygments_lexer": "ipython3",
   "version": "3.12.7"
  }
 },
 "nbformat": 4,
 "nbformat_minor": 5
}
