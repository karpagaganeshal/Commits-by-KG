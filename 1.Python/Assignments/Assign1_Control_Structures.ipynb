{
 "cells": [
  {
   "cell_type": "code",
   "execution_count": 1,
   "id": "7777d3be-452a-4608-89a8-869a35b61510",
   "metadata": {},
   "outputs": [
    {
     "name": "stdout",
     "output_type": "stream",
     "text": [
      "Welcome to Assignment-1\n"
     ]
    }
   ],
   "source": [
    "print(\"Welcome to Assignment-1\")\n"
   ]
  },
  {
   "cell_type": "code",
   "execution_count": 17,
   "id": "1d29a839-98da-4b30-a6de-ace49ad4dd72",
   "metadata": {},
   "outputs": [
    {
     "name": "stdout",
     "output_type": "stream",
     "text": [
      "Num1 =  10\n",
      "Num1 =  30\n",
      " Add =  40\n"
     ]
    }
   ],
   "source": [
    "Num1=10\n",
    "Num2=30\n",
    "Add=Num1+Num2\n",
    "print(\"Num1 = \",Num1)\n",
    "print(\"Num1 = \",Num2)\n",
    "print(\" Add = \",Add)"
   ]
  },
  {
   "cell_type": "code",
   "execution_count": 41,
   "id": "1709057d-2a16-466f-880e-ba75ef5d5cf5",
   "metadata": {},
   "outputs": [
    {
     "name": "stdin",
     "output_type": "stream",
     "text": [
      "Enter the BMI Index : 23\n"
     ]
    },
    {
     "name": "stdout",
     "output_type": "stream",
     "text": [
      "Normal Weight\n"
     ]
    }
   ],
   "source": [
    "BMI=float(input(\"Enter the BMI Index :\"))\n",
    "if(BMI<18.5):\n",
    "    print(\"Under Weight\")\n",
    "elif(BMI<25):\n",
    "    print(\"Normal Weight\")\n",
    "elif(BMI<30):\n",
    "    print(\"Over Weight\")\n",
    "elif(BMI<35):\n",
    "    print(\"Obesity (class 1)\")\n",
    "elif(BMI<40):\n",
    "    print(\"Obesity (class 2)\")\n",
    "else:\n",
    "    print(\"Obesity (class 3),Sever\")"
   ]
  }
 ],
 "metadata": {
  "kernelspec": {
   "display_name": "Python [conda env:base] *",
   "language": "python",
   "name": "conda-base-py"
  },
  "language_info": {
   "codemirror_mode": {
    "name": "ipython",
    "version": 3
   },
   "file_extension": ".py",
   "mimetype": "text/x-python",
   "name": "python",
   "nbconvert_exporter": "python",
   "pygments_lexer": "ipython3",
   "version": "3.12.7"
  }
 },
 "nbformat": 4,
 "nbformat_minor": 5
}
