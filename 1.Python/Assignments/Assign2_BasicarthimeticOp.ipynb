{
 "cells": [
  {
   "cell_type": "code",
   "execution_count": 1,
   "id": "84f4b917-36a7-4069-a5eb-efc02c22a763",
   "metadata": {},
   "outputs": [
    {
     "name": "stdout",
     "output_type": "stream",
     "text": [
      "HOPE AI\n"
     ]
    }
   ],
   "source": [
    "print(\"HOPE AI\")"
   ]
  },
  {
   "cell_type": "code",
   "execution_count": 3,
   "id": "9454ea4f-2606-4878-80df-3b97b8bf4522",
   "metadata": {},
   "outputs": [
    {
     "name": "stdin",
     "output_type": "stream",
     "text": [
      "Enter your Institute Name: HOPE AI\n"
     ]
    }
   ],
   "source": [
    "IN=input(\"Enter your Institute Name:\")"
   ]
  },
  {
   "cell_type": "code",
   "execution_count": 5,
   "id": "1c285ad2-b23d-4199-af75-087cc6635ccd",
   "metadata": {},
   "outputs": [
    {
     "name": "stdin",
     "output_type": "stream",
     "text": [
      "Enter your Name : Ganesh\n",
      "Enter your Age : 34\n",
      "Enter your School Name : St.Marry\n",
      "Enter your Degree : BE CSE\n"
     ]
    }
   ],
   "source": [
    "Name=input(\"Enter your Name :\")\n",
    "Age=int(input(\"Enter your Age :\"))\n",
    "School=input(\"Enter your School Name :\")\n",
    "Degree=input(\"Enter your Degree :\")\n"
   ]
  },
  {
   "cell_type": "code",
   "execution_count": 7,
   "id": "98d190a1-06e7-406f-bb74-c41e79070264",
   "metadata": {},
   "outputs": [
    {
     "name": "stdout",
     "output_type": "stream",
     "text": [
      "a = 43\n",
      "b = 34\n",
      "Add = 77\n"
     ]
    }
   ],
   "source": [
    "a=43\n",
    "b=34\n",
    "Add=a+b\n",
    "print(\"a =\",a)\n",
    "print(\"b =\",b)\n",
    "print(\"Add =\",Add)\n"
   ]
  },
  {
   "cell_type": "code",
   "execution_count": 11,
   "id": "72cf8fa6-f0b2-421a-bdfd-0c7fbee4feb2",
   "metadata": {},
   "outputs": [
    {
     "name": "stdout",
     "output_type": "stream",
     "text": [
      "a = 43\n",
      "b = 34\n",
      "Sub = 9\n"
     ]
    }
   ],
   "source": [
    "a=43\n",
    "b=34\n",
    "Sub=a-b\n",
    "print(\"a =\",a)\n",
    "print(\"b =\",b)\n",
    "print(\"Sub =\",Sub)\n"
   ]
  },
  {
   "cell_type": "code",
   "execution_count": 13,
   "id": "e7fd6873-51ba-4adc-b6d5-7dbf6ec13072",
   "metadata": {},
   "outputs": [
    {
     "name": "stdout",
     "output_type": "stream",
     "text": [
      "a = 63\n",
      "b = 97\n",
      "Mul = 6111\n"
     ]
    }
   ],
   "source": [
    "a=63\n",
    "b=97\n",
    "Mul=a*b\n",
    "print(\"a =\",a)\n",
    "print(\"b =\",b)\n",
    "print(\"Mul =\",Mul)\n"
   ]
  },
  {
   "cell_type": "code",
   "execution_count": 15,
   "id": "f5d5a7cd-3f16-44b9-a095-d4ceaeeb90c4",
   "metadata": {},
   "outputs": [
    {
     "name": "stdout",
     "output_type": "stream",
     "text": [
      "a = 76\n",
      "b = 31\n",
      "Div = 2.4516129032258065\n"
     ]
    }
   ],
   "source": [
    "a=76\n",
    "b=31\n",
    "Div=a/b\n",
    "print(\"a =\",a)\n",
    "print(\"b =\",b)\n",
    "print(\"Float Div =\",Div)\n"
   ]
  },
  {
   "cell_type": "code",
   "execution_count": 17,
   "id": "5030a533-4e66-4983-85bc-33e2a2bc5150",
   "metadata": {},
   "outputs": [
    {
     "name": "stdout",
     "output_type": "stream",
     "text": [
      "a = 76\n",
      "b = 31\n",
      "Floor Div = 2\n"
     ]
    }
   ],
   "source": [
    "a=76\n",
    "b=31\n",
    "Div=int (a/b)\n",
    "print(\"a =\",a)\n",
    "print(\"b =\",b)\n",
    "print(\"Floor Div =\",Div)\n"
   ]
  },
  {
   "cell_type": "code",
   "execution_count": 19,
   "id": "83305138-0db8-49c7-af00-943452f9cedf",
   "metadata": {},
   "outputs": [
    {
     "name": "stdout",
     "output_type": "stream",
     "text": [
      "a = 76\n",
      "b = 31\n",
      "Modulo= 14\n"
     ]
    }
   ],
   "source": [
    "a=76\n",
    "b=31\n",
    "Mod=a%b\n",
    "print(\"a =\",a)\n",
    "print(\"b =\",b)\n",
    "print(\"Modulo=\",Mod)\n"
   ]
  },
  {
   "cell_type": "code",
   "execution_count": 23,
   "id": "3dec6388-f011-4e12-acd6-657d9529debe",
   "metadata": {},
   "outputs": [
    {
     "name": "stdout",
     "output_type": "stream",
     "text": [
      "a = 4\n",
      "b = 4\n",
      "Power = 256\n"
     ]
    }
   ],
   "source": [
    "a=4\n",
    "b=4\n",
    "po= pow(a,b)\n",
    "print(\"a =\",a)\n",
    "print(\"b =\",b)\n",
    "print(\"Power =\",po)\n"
   ]
  },
  {
   "cell_type": "code",
   "execution_count": null,
   "id": "b6a8eae2-9f11-40e4-aada-7f54f787b571",
   "metadata": {},
   "outputs": [],
   "source": []
  }
 ],
 "metadata": {
  "kernelspec": {
   "display_name": "Python [conda env:base] *",
   "language": "python",
   "name": "conda-base-py"
  },
  "language_info": {
   "codemirror_mode": {
    "name": "ipython",
    "version": 3
   },
   "file_extension": ".py",
   "mimetype": "text/x-python",
   "name": "python",
   "nbconvert_exporter": "python",
   "pygments_lexer": "ipython3",
   "version": "3.12.7"
  }
 },
 "nbformat": 4,
 "nbformat_minor": 5
}
