{
 "cells": [
  {
   "cell_type": "code",
   "execution_count": 3,
   "id": "3a8b6580-33f6-4254-8d81-8d2e61e49b42",
   "metadata": {},
   "outputs": [
    {
     "name": "stdout",
     "output_type": "stream",
     "text": [
      "0\n",
      "1\n",
      "2\n",
      "3\n",
      "4\n",
      "5\n",
      "6\n",
      "7\n",
      "8\n",
      "9\n",
      "10\n",
      "11\n",
      "12\n",
      "13\n",
      "14\n",
      "15\n",
      "16\n",
      "17\n",
      "18\n",
      "19\n"
     ]
    }
   ],
   "source": [
    "for tmp in range(0,20):\n",
    "    print(tmp)"
   ]
  },
  {
   "cell_type": "code",
   "execution_count": 15,
   "id": "251310a0-7cbb-43f9-9b65-c7dcd5580544",
   "metadata": {},
   "outputs": [
    {
     "name": "stdout",
     "output_type": "stream",
     "text": [
      "10 11 12 13 14 15 16 17 18 19 "
     ]
    }
   ],
   "source": [
    "for bween in range (10,20):\n",
    "    print(bween,end=' ')\n"
   ]
  },
  {
   "cell_type": "code",
   "execution_count": 43,
   "id": "de5c59e1-638d-43d1-b1d9-f00644eb547b",
   "metadata": {},
   "outputs": [
    {
     "name": "stdout",
     "output_type": "stream",
     "text": [
      "[10, 20, 14, 55, 43, 87, 76]\n",
      " Number of item in the List2 :\n",
      " 7\n"
     ]
    }
   ],
   "source": [
    "list2 = [10,20,14,55,43,87,76]\n",
    "print(list2)\n",
    "count=0\n",
    "for curr in list2:\n",
    "    count=count+1\n",
    "print(\" Number of item in the List2 :\\n\",count)\n",
    "\n"
   ]
  },
  {
   "cell_type": "code",
   "execution_count": 49,
   "id": "faa2ee0e-867b-4d17-b294-3af59c401cde",
   "metadata": {},
   "outputs": [
    {
     "name": "stdout",
     "output_type": "stream",
     "text": [
      "Artificial Intellegence\n",
      "A\n",
      "r\n",
      "t\n",
      "i\n",
      "f\n",
      "i\n",
      "c\n",
      "i\n",
      "a\n",
      "l\n",
      " \n",
      "I\n",
      "n\n",
      "t\n",
      "e\n",
      "l\n",
      "l\n",
      "e\n",
      "g\n",
      "e\n",
      "n\n",
      "c\n",
      "e\n"
     ]
    }
   ],
   "source": [
    "string=\"Artificial Intellegence\"\n",
    "print(string)\n",
    "for char in string:\n",
    "    print(char)"
   ]
  },
  {
   "cell_type": "code",
   "execution_count": 51,
   "id": "cf6ea1ad-2b35-496b-b5d5-a9fc1df6d03b",
   "metadata": {},
   "outputs": [
    {
     "name": "stdout",
     "output_type": "stream",
     "text": [
      "-Your Name-\n",
      "-Your Age-\n",
      "-Your Profession-\n"
     ]
    }
   ],
   "source": [
    "print(\"-Your Name-\")\n",
    "print(\"-Your Age-\")\n",
    "print(\"-Your Profession-\")\n"
   ]
  },
  {
   "cell_type": "markdown",
   "id": "91d5690c-a2f1-45b8-88ce-599272124070",
   "metadata": {},
   "source": [
    "Tuple-cannot be modified unlike list"
   ]
  },
  {
   "cell_type": "code",
   "execution_count": 5,
   "id": "20fa2072-64bd-4f0b-880b-ec3fa7db6be5",
   "metadata": {},
   "outputs": [
    {
     "name": "stdout",
     "output_type": "stream",
     "text": [
      "(1, 'Welcome', 2, 'Hope')\n"
     ]
    }
   ],
   "source": [
    "tup=(1,'Welcome',2,'Hope')\n",
    "print(tup)"
   ]
  },
  {
   "cell_type": "code",
   "execution_count": 7,
   "id": "33a1d437-5567-4a89-837a-d6002fd5b21c",
   "metadata": {},
   "outputs": [
    {
     "name": "stdout",
     "output_type": "stream",
     "text": [
      "((0, 1, 2, 3), ('python', 'HOPE'))\n"
     ]
    }
   ],
   "source": [
    "tup0=(0,1,2,3)\n",
    "tup1=('python','HOPE')\n",
    "tup2=tup0,tup1\n",
    "print(tup2)"
   ]
  },
  {
   "cell_type": "code",
   "execution_count": 24,
   "id": "c891067b-20cb-44ec-bcfc-8e02f7dfd862",
   "metadata": {},
   "outputs": [
    {
     "name": "stdout",
     "output_type": "stream",
     "text": [
      "(20, 10, 19, 25, 1, 276, 188) \n",
      "\n",
      "19 is Odd \n",
      "\n",
      "25 is Odd \n",
      "\n",
      "1 is Odd \n",
      "\n"
     ]
    }
   ],
   "source": [
    "#print odd numbers from list\n",
    "ranlist=(20,10,19,25,1,276,188)\n",
    "odd=0;\n",
    "print(ranlist,'\\n')\n",
    "for i in ranlist:\n",
    "    if(i%2!=0):\n",
    "        print(i ,\"is Odd\",\"\\n\")\n",
    "\n",
    "    \n"
   ]
  },
  {
   "cell_type": "code",
   "execution_count": 26,
   "id": "6da9ea1e-51e7-4a46-b7f6-cb976aa98021",
   "metadata": {},
   "outputs": [
    {
     "name": "stdout",
     "output_type": "stream",
     "text": [
      "(20, 10, 19, 25, 1, 276, 188) \n",
      "\n",
      "20 is Even \n",
      "\n",
      "10 is Even \n",
      "\n",
      "276 is Even \n",
      "\n",
      "188 is Even \n",
      "\n"
     ]
    }
   ],
   "source": [
    "#print even numbers from list\n",
    "ranlist=(20,10,19,25,1,276,188)\n",
    "odd=0;\n",
    "print(ranlist,'\\n')\n",
    "for i in ranlist:\n",
    "    if(i%2==0):\n",
    "        print(i ,\"is Even\",\"\\n\")\n",
    "    \n"
   ]
  },
  {
   "cell_type": "code",
   "execution_count": null,
   "id": "a4d9b155-93a4-4863-9c67-cd08a50a6090",
   "metadata": {},
   "outputs": [],
   "source": []
  }
 ],
 "metadata": {
  "kernelspec": {
   "display_name": "Python [conda env:base] *",
   "language": "python",
   "name": "conda-base-py"
  },
  "language_info": {
   "codemirror_mode": {
    "name": "ipython",
    "version": 3
   },
   "file_extension": ".py",
   "mimetype": "text/x-python",
   "name": "python",
   "nbconvert_exporter": "python",
   "pygments_lexer": "ipython3",
   "version": "3.12.7"
  }
 },
 "nbformat": 4,
 "nbformat_minor": 5
}
