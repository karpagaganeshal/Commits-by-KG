{
 "cells": [
  {
   "cell_type": "code",
   "execution_count": 1,
   "id": "6af85487-253c-4803-822d-34a8036e6b22",
   "metadata": {},
   "outputs": [],
   "source": [
    "import pickle# Pickle module-a import panrom, so that we can save/load model files"
   ]
  },
  {
   "cell_type": "code",
   "execution_count": 3,
   "id": "5ba19856-f92f-4c91-acc7-5e13862ba059",
   "metadata": {},
   "outputs": [
    {
     "name": "stderr",
     "output_type": "stream",
     "text": [
      "C:\\Users\\alkar\\anaconda3\\Lib\\site-packages\\sklearn\\base.py:493: UserWarning: X does not have valid feature names, but LinearRegression was fitted with feature names\n",
      "  warnings.warn(\n"
     ]
    }
   ],
   "source": [
    "loaded_model=pickle.load(open(\"finalized_model_MutipleLR.sav\",'rb'))# rb read the modelresult=loaded_model.predict([[5000,10000,15000,1,0]]\n",
    "result = loaded_model.predict([[165349.20,136897.80,471784.10,0,1]])\n"
   ]
  },
  {
   "cell_type": "code",
   "execution_count": 5,
   "id": "05e6c2be-25a1-459a-bfc3-1e2ba469af58",
   "metadata": {},
   "outputs": [
    {
     "data": {
      "text/plain": [
       "array([[192239.66787833]])"
      ]
     },
     "execution_count": 5,
     "metadata": {},
     "output_type": "execute_result"
    }
   ],
   "source": [
    "result"
   ]
  },
  {
   "cell_type": "code",
   "execution_count": null,
   "id": "11629ad4-44cf-49e0-9133-aa23e296d1a2",
   "metadata": {},
   "outputs": [],
   "source": [
    "165349.20\t136897.80\t471784.10"
   ]
  }
 ],
 "metadata": {
  "kernelspec": {
   "display_name": "Python [conda env:base] *",
   "language": "python",
   "name": "conda-base-py"
  },
  "language_info": {
   "codemirror_mode": {
    "name": "ipython",
    "version": 3
   },
   "file_extension": ".py",
   "mimetype": "text/x-python",
   "name": "python",
   "nbconvert_exporter": "python",
   "pygments_lexer": "ipython3",
   "version": "3.12.7"
  }
 },
 "nbformat": 4,
 "nbformat_minor": 5
}
