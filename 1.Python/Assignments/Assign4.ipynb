{
 "cells": [
  {
   "cell_type": "code",
   "execution_count": 5,
   "id": "a6759f97-2ad5-49dd-8550-04f84bab94b4",
   "metadata": {},
   "outputs": [
    {
     "name": "stdin",
     "output_type": "stream",
     "text": [
      "Enter the Value: 10\n"
     ]
    },
    {
     "name": "stdout",
     "output_type": "stream",
     "text": [
      "Correct\n"
     ]
    }
   ],
   "source": [
    "Number=int(input(\"Enter the Value:\"))\n",
    "if (Number==10):\n",
    "    print (\"Correct\")\n",
    "else:\n",
    "    print (\"IN-Correct\")\n",
    "\n"
   ]
  },
  {
   "cell_type": "code",
   "execution_count": 11,
   "id": "28c38ec6-9a00-4715-bba2-2fe420724be2",
   "metadata": {},
   "outputs": [
    {
     "name": "stdin",
     "output_type": "stream",
     "text": [
      "Enter the password HOPE@123\n"
     ]
    },
    {
     "name": "stdout",
     "output_type": "stream",
     "text": [
      "Your Password is correct\n"
     ]
    }
   ],
   "source": [
    "pwd=input(\"Enter the password\")\n",
    "if (pwd=='HOPE@123'):\n",
    "    print (\"Your Password is correct\")\n",
    "else:\n",
    "    print (\"Your Password is Incorrect\")\n"
   ]
  },
  {
   "cell_type": "code",
   "execution_count": 13,
   "id": "832f93a1-313e-4c16-9fcf-85b65a51b286",
   "metadata": {},
   "outputs": [
    {
     "name": "stdin",
     "output_type": "stream",
     "text": [
      "Age : 20\n"
     ]
    },
    {
     "name": "stdout",
     "output_type": "stream",
     "text": [
      "Adult\n"
     ]
    }
   ],
   "source": [
    "#Age\n",
    "age =int(input(\"Age :\"))\n",
    "if (age< 18):\n",
    "    print(\"child\")\n",
    "elif(age<35):\n",
    "    print(\"Adult\")\n",
    "elif(age<59):\n",
    "    print(\"Citizen\")\n",
    "else:\n",
    "    print(\"Senior Citizen\")\n",
    "\n"
   ]
  },
  {
   "cell_type": "code",
   "execution_count": 21,
   "id": "23a856dd-f4cb-4692-9de6-bac37d455bb1",
   "metadata": {},
   "outputs": [
    {
     "name": "stdin",
     "output_type": "stream",
     "text": [
      "Enter Any Number : -1\n"
     ]
    },
    {
     "name": "stdout",
     "output_type": "stream",
     "text": [
      "Number is Negative\n"
     ]
    }
   ],
   "source": [
    "Number=int(input(\"Enter Any Number :\"))\n",
    "if (Number<0):\n",
    "    print (\"Number is Negative\")\n",
    "else:\n",
    "    print (\"Number is Positive\")\n"
   ]
  },
  {
   "cell_type": "code",
   "execution_count": 31,
   "id": "d8733cbf-50a3-4174-b5b9-5c1d9888af77",
   "metadata": {},
   "outputs": [
    {
     "name": "stdin",
     "output_type": "stream",
     "text": [
      "Enter a Number to Check : 50\n"
     ]
    },
    {
     "name": "stdout",
     "output_type": "stream",
     "text": [
      "Number is divisible by 5\n"
     ]
    }
   ],
   "source": [
    "Number=int(input(\"Enter a Number to Check :\"))\n",
    "if (Number%5==0):\n",
    "    print (\"Number is divisible by 5\")\n",
    "else:\n",
    "    print (\"Number is NOT DIVISIBLE by 5\")\n"
   ]
  },
  {
   "cell_type": "code",
   "execution_count": null,
   "id": "ea152572-61dc-430b-b3c5-6d59ae64b17e",
   "metadata": {},
   "outputs": [],
   "source": []
  }
 ],
 "metadata": {
  "kernelspec": {
   "display_name": "Python [conda env:base] *",
   "language": "python",
   "name": "conda-base-py"
  },
  "language_info": {
   "codemirror_mode": {
    "name": "ipython",
    "version": 3
   },
   "file_extension": ".py",
   "mimetype": "text/x-python",
   "name": "python",
   "nbconvert_exporter": "python",
   "pygments_lexer": "ipython3",
   "version": "3.12.7"
  }
 },
 "nbformat": 4,
 "nbformat_minor": 5
}
