{
 "cells": [
  {
   "cell_type": "code",
   "execution_count": 5,
   "id": "401520ba-fdfc-4182-8bb0-07db8954c3c1",
   "metadata": {},
   "outputs": [],
   "source": [
    "from mulfn import mulfuns"
   ]
  },
  {
   "cell_type": "code",
   "execution_count": 2,
   "id": "37e7274a-16c1-414f-8382-0f8d5e453899",
   "metadata": {},
   "outputs": [
    {
     "name": "stdout",
     "output_type": "stream",
     "text": [
      "Sub-fields in AI are:\n",
      "Machine Learning\n",
      "Neural Networks\n",
      "Vision\n",
      "Robotics\n",
      "Speech Processing\n",
      "Natural Language Processing\n"
     ]
    }
   ],
   "source": [
    "mulfuns.subfield()"
   ]
  },
  {
   "cell_type": "code",
   "execution_count": 3,
   "id": "99235fa1-66d8-4649-b736-b4c46930af0d",
   "metadata": {},
   "outputs": [
    {
     "name": "stdin",
     "output_type": "stream",
     "text": [
      "Enter a Number : 7\n"
     ]
    },
    {
     "name": "stdout",
     "output_type": "stream",
     "text": [
      "7 is an odd Number\n"
     ]
    }
   ],
   "source": [
    "_=mulfuns.OddEven()"
   ]
  },
  {
   "cell_type": "code",
   "execution_count": 4,
   "id": "54751817-05f6-4769-9d96-b58c6818fdac",
   "metadata": {},
   "outputs": [
    {
     "name": "stdin",
     "output_type": "stream",
     "text": [
      "Your Gender : Male\n",
      "Your Age : 23\n"
     ]
    },
    {
     "name": "stdout",
     "output_type": "stream",
     "text": [
      "Eligible\n"
     ]
    }
   ],
   "source": [
    "_=mulfuns.EFM()"
   ]
  },
  {
   "cell_type": "code",
   "execution_count": 7,
   "id": "92016a37-f68f-43cf-84a6-eaa1b66687ed",
   "metadata": {},
   "outputs": [
    {
     "name": "stdin",
     "output_type": "stream",
     "text": [
      " Subject1 = 98\n",
      " Subject2 = 87\n",
      " Subject3 = 95\n",
      " Subject4 = 95\n",
      " Subject5 = 93\n"
     ]
    },
    {
     "name": "stdout",
     "output_type": "stream",
     "text": [
      " Total :    468\n",
      " Precentage :93.600000000000\n"
     ]
    }
   ],
   "source": [
    "_=mulfuns.percentage()"
   ]
  },
  {
   "cell_type": "code",
   "execution_count": 9,
   "id": "7e39a489-9052-4270-94e8-7eb4fddccd13",
   "metadata": {},
   "outputs": [
    {
     "name": "stdin",
     "output_type": "stream",
     "text": [
      "Height :  32\n",
      "Breadth :  34\n"
     ]
    },
    {
     "name": "stdout",
     "output_type": "stream",
     "text": [
      "Area formula : (Height * Breadth) / 2\n",
      "Area of Traiangle is :  544.0\n"
     ]
    },
    {
     "name": "stdin",
     "output_type": "stream",
     "text": [
      "Height1 :  2\n",
      "Height2 :  4\n",
      "Breadth2 :  4\n"
     ]
    },
    {
     "name": "stdout",
     "output_type": "stream",
     "text": [
      "Perimeter formula : Height1 + Height2 + Breadth2\n",
      "Perimeter of Traiangle is :  10\n"
     ]
    }
   ],
   "source": [
    "_=mulfuns.triangle()"
   ]
  },
  {
   "cell_type": "code",
   "execution_count": null,
   "id": "e44024d3-cea8-4aff-9b1b-000eaa6965fd",
   "metadata": {},
   "outputs": [],
   "source": []
  }
 ],
 "metadata": {
  "kernelspec": {
   "display_name": "Python [conda env:base] *",
   "language": "python",
   "name": "conda-base-py"
  },
  "language_info": {
   "codemirror_mode": {
    "name": "ipython",
    "version": 3
   },
   "file_extension": ".py",
   "mimetype": "text/x-python",
   "name": "python",
   "nbconvert_exporter": "python",
   "pygments_lexer": "ipython3",
   "version": "3.12.7"
  }
 },
 "nbformat": 4,
 "nbformat_minor": 5
}
