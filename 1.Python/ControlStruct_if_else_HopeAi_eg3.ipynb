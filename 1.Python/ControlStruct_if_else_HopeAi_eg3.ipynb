{
 "cells": [
  {
   "cell_type": "code",
   "execution_count": 5,
   "id": "ca197af0-1928-4e2e-9282-b93bf19e67f6",
   "metadata": {},
   "outputs": [
    {
     "name": "stdin",
     "output_type": "stream",
     "text": [
      "Enter the age:  10\n"
     ]
    }
   ],
   "source": [
    "#Run selected cell and all below -->which will execute all lines\n",
    "age=int(input(\"Enter the age: \"))"
   ]
  },
  {
   "cell_type": "code",
   "execution_count": 6,
   "id": "0e91ea9b-7d7e-491c-b672-23ab32e69222",
   "metadata": {},
   "outputs": [
    {
     "name": "stdout",
     "output_type": "stream",
     "text": [
      "Children\n"
     ]
    }
   ],
   "source": [
    "#if\n",
    "if(age < 18):\n",
    "    print(\"Children\")\n",
    "else:\n",
    "    print (\"Adult\")"
   ]
  }
 ],
 "metadata": {
  "kernelspec": {
   "display_name": "Python [conda env:base] *",
   "language": "python",
   "name": "conda-base-py"
  },
  "language_info": {
   "codemirror_mode": {
    "name": "ipython",
    "version": 3
   },
   "file_extension": ".py",
   "mimetype": "text/x-python",
   "name": "python",
   "nbconvert_exporter": "python",
   "pygments_lexer": "ipython3",
   "version": "3.12.7"
  }
 },
 "nbformat": 4,
 "nbformat_minor": 5
}
