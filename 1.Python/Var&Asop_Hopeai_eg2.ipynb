{
 "cells": [
  {
   "cell_type": "code",
   "execution_count": 5,
   "id": "30d8769f-ed58-41eb-b5d7-4d5469854910",
   "metadata": {},
   "outputs": [],
   "source": [
    "num1=10\n",
    "num2=20\n",
    "add=num1+num2"
   ]
  },
  {
   "cell_type": "code",
   "execution_count": 7,
   "id": "b98b2057-4459-47b9-81bf-ef067367dc62",
   "metadata": {},
   "outputs": [
    {
     "name": "stdout",
     "output_type": "stream",
     "text": [
      "add\n"
     ]
    }
   ],
   "source": [
    "print(\"add\")"
   ]
  },
  {
   "cell_type": "code",
   "execution_count": 9,
   "id": "306d85c3-3cf7-45f9-b917-0622b7f155bf",
   "metadata": {},
   "outputs": [
    {
     "name": "stdout",
     "output_type": "stream",
     "text": [
      "30\n"
     ]
    }
   ],
   "source": [
    "print(add)"
   ]
  },
  {
   "cell_type": "code",
   "execution_count": 21,
   "id": "43082900-7212-4c42-b320-d05bdafb71ba",
   "metadata": {},
   "outputs": [
    {
     "name": "stdout",
     "output_type": "stream",
     "text": [
      "Addition of two numbers\n",
      "print the number 1 : 10\n",
      "print the number 2 : 20\n",
      "Result is: 30\n",
      "Result is: 30\n"
     ]
    }
   ],
   "source": [
    "print(\"Addition of two numbers\")\n",
    "num1=10\n",
    "print(\"print the number 1 :\",num1)\n",
    "num2=20\n",
    "print(\"print the number 2 :\",num2)\n",
    "print(\"Result is:\",num1+num2)\n",
    "add=num1+num2\n",
    "print(\"Result is:\",add)\n",
    "\n"
   ]
  },
  {
   "cell_type": "code",
   "execution_count": 29,
   "id": "67643893-9338-4322-966e-3ca720e91a28",
   "metadata": {},
   "outputs": [
    {
     "name": "stdin",
     "output_type": "stream",
     "text": [
      "Enter the value for Num4 40\n",
      "Enter the value for Num5 50\n"
     ]
    },
    {
     "name": "stdout",
     "output_type": "stream",
     "text": [
      "Result is: 4050\n"
     ]
    }
   ],
   "source": [
    "num4=input(\"Enter the value for Num4\")\n",
    "num5=input(\"Enter the value for Num5\")\n",
    "print(\"Result is:\",num4+num5)"
   ]
  },
  {
   "cell_type": "code",
   "execution_count": 31,
   "id": "56fe656f-0bce-46bc-a72b-74b72127bfab",
   "metadata": {},
   "outputs": [
    {
     "name": "stdin",
     "output_type": "stream",
     "text": [
      "Enter the value for Num6 50\n",
      "Enter the value for Num7 150\n"
     ]
    },
    {
     "name": "stdout",
     "output_type": "stream",
     "text": [
      "Result is: 200\n"
     ]
    }
   ],
   "source": [
    "num6=int(input(\"Enter the value for Num6\"))\n",
    "num7=int(input(\"Enter the value for Num7\"))\n",
    "print(\"Result is:\",num6+num7)"
   ]
  },
  {
   "cell_type": "code",
   "execution_count": null,
   "id": "c0043d3a-8c54-41d3-8715-4408a2b26750",
   "metadata": {},
   "outputs": [],
   "source": []
  }
 ],
 "metadata": {
  "kernelspec": {
   "display_name": "Python [conda env:base] *",
   "language": "python",
   "name": "conda-base-py"
  },
  "language_info": {
   "codemirror_mode": {
    "name": "ipython",
    "version": 3
   },
   "file_extension": ".py",
   "mimetype": "text/x-python",
   "name": "python",
   "nbconvert_exporter": "python",
   "pygments_lexer": "ipython3",
   "version": "3.12.7"
  }
 },
 "nbformat": 4,
 "nbformat_minor": 5
}
