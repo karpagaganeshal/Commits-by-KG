{
 "cells": [
  {
   "cell_type": "code",
   "execution_count": 9,
   "id": "e6a5ad6f-de67-4709-b6ad-d52b31644abb",
   "metadata": {},
   "outputs": [
    {
     "name": "stdout",
     "output_type": "stream",
     "text": [
      "Senior Citizen\n",
      "Child\n",
      "Citizen\n",
      "Adult\n",
      "Adult\n",
      "Adult\n"
     ]
    }
   ],
   "source": [
    "group = [80,5,56,27,18,34]\n",
    "for age in group:\n",
    "    if(age<18):\n",
    "        print(\"Child\")\n",
    "    elif(age<39):\n",
    "        print(\"Adult\")\n",
    "    elif(age<59):\n",
    "        print(\"Citizen\")\n",
    "    else:\n",
    "        print(\"Senior Citizen\")\n",
    "\n",
    "\n",
    "              \n",
    "    \n",
    "    \n",
    "        "
   ]
  },
  {
   "cell_type": "code",
   "execution_count": 32,
   "id": "dac08cba-9013-4e00-8261-e69cbaebc487",
   "metadata": {},
   "outputs": [
    {
     "name": "stdout",
     "output_type": "stream",
     "text": [
      "Senior Citizen\n",
      "Even Number\n",
      "Child\n",
      " Odd Number\n",
      "Citizen\n",
      "Even Number\n",
      "Adult\n",
      " Odd Number\n",
      "Adult\n",
      "Even Number\n",
      "Adult\n",
      "Even Number\n"
     ]
    }
   ],
   "source": [
    "group = [80,5,56,27,18,34]\n",
    "for age in group:\n",
    "    if(age<18):\n",
    "        print(\"Child\")\n",
    "    elif(age<39):\n",
    "        print(\"Adult\")\n",
    "    elif(age<59):\n",
    "        print(\"Citizen\")\n",
    "    else:\n",
    "        print(\"Senior Citizen\")        \n",
    "    if(age%2==0):\n",
    "        print (\"Even Number\")\n",
    "    else:\n",
    "        print(\" Odd Number\")"
   ]
  },
  {
   "cell_type": "code",
   "execution_count": 44,
   "id": "90299c82-7e59-4d8c-b079-a77267cbc73a",
   "metadata": {},
   "outputs": [
    {
     "name": "stdout",
     "output_type": "stream",
     "text": [
      "0\n",
      "2\n",
      "4\n"
     ]
    }
   ],
   "source": [
    "for num1 in range(0,5,2):\n",
    "    print(num1)"
   ]
  },
  {
   "cell_type": "code",
   "execution_count": null,
   "id": "7acaf43a-0674-4b20-8e93-eb7abcad15b4",
   "metadata": {},
   "outputs": [],
   "source": []
  }
 ],
 "metadata": {
  "kernelspec": {
   "display_name": "Python [conda env:base] *",
   "language": "python",
   "name": "conda-base-py"
  },
  "language_info": {
   "codemirror_mode": {
    "name": "ipython",
    "version": 3
   },
   "file_extension": ".py",
   "mimetype": "text/x-python",
   "name": "python",
   "nbconvert_exporter": "python",
   "pygments_lexer": "ipython3",
   "version": "3.12.7"
  }
 },
 "nbformat": 4,
 "nbformat_minor": 5
}
